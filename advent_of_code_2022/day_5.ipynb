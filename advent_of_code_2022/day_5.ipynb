{
 "cells": [
  {
   "cell_type": "code",
   "execution_count": 1,
   "metadata": {},
   "outputs": [
    {
     "data": {
      "text/plain": [
       "['[J]             [F] [M]            ',\n",
       " '[Z] [F]     [G] [Q] [F]            ',\n",
       " '[G] [P]     [H] [Z] [S] [Q]        ',\n",
       " '[V] [W] [Z] [P] [D] [G] [P]        ',\n",
       " '[T] [D] [S] [Z] [N] [W] [B] [N]    ',\n",
       " '[D] [M] [R] [J] [J] [P] [V] [P] [J]',\n",
       " '[B] [R] [C] [T] [C] [V] [C] [B] [P]',\n",
       " '[N] [S] [V] [R] [T] [N] [G] [Z] [W]',\n",
       " ' 1   2   3   4   5   6   7   8   9 ',\n",
       " '',\n",
       " 'move 2 from 4 to 6',\n",
       " 'move 1 from 9 to 5',\n",
       " 'move 3 from 2 to 4',\n",
       " 'move 8 from 4 to 7']"
      ]
     },
     "execution_count": 1,
     "metadata": {},
     "output_type": "execute_result"
    }
   ],
   "source": [
    "\n",
    "import re\n",
    "from typing import List\n",
    "\n",
    "from src import inputs\n",
    "\n",
    "inputs.read_input(5).split(\"\\n\")[:14]"
   ]
  },
  {
   "cell_type": "code",
   "execution_count": 2,
   "metadata": {},
   "outputs": [
    {
     "data": {
      "text/plain": [
       "['[J]             [F] [M]            ',\n",
       " '[Z] [F]     [G] [Q] [F]            ',\n",
       " '[G] [P]     [H] [Z] [S] [Q]        ',\n",
       " '[V] [W] [Z] [P] [D] [G] [P]        ',\n",
       " '[T] [D] [S] [Z] [N] [W] [B] [N]    ',\n",
       " '[D] [M] [R] [J] [J] [P] [V] [P] [J]',\n",
       " '[B] [R] [C] [T] [C] [V] [C] [B] [P]',\n",
       " '[N] [S] [V] [R] [T] [N] [G] [Z] [W]']"
      ]
     },
     "execution_count": 2,
     "metadata": {},
     "output_type": "execute_result"
    }
   ],
   "source": [
    "world_state = inputs.read_input(5).split(\"\\n\")[:8]\n",
    "world_state"
   ]
  },
  {
   "cell_type": "code",
   "execution_count": 3,
   "metadata": {},
   "outputs": [
    {
     "data": {
      "text/plain": [
       "'W'"
      ]
     },
     "execution_count": 3,
     "metadata": {},
     "output_type": "execute_result"
    }
   ],
   "source": [
    "world_state[-1][1 + 8 * 4]"
   ]
  },
  {
   "cell_type": "code",
   "execution_count": 4,
   "metadata": {},
   "outputs": [],
   "source": [
    "def process_line(line:str) -> List[str]:\n",
    "    return_list = []\n",
    "    for i in range(9):\n",
    "        return_list.append(line[1 + i * 4])\n",
    "        \n",
    "    return return_list\n"
   ]
  },
  {
   "cell_type": "code",
   "execution_count": 5,
   "metadata": {},
   "outputs": [
    {
     "name": "stdout",
     "output_type": "stream",
     "text": [
      "['J', ' ', ' ', ' ', 'F', 'M', ' ', ' ', ' ']\n"
     ]
    },
    {
     "data": {
      "text/plain": [
       "9"
      ]
     },
     "execution_count": 5,
     "metadata": {},
     "output_type": "execute_result"
    }
   ],
   "source": [
    "p_row = process_line(world_state[0])\n",
    "print(p_row)\n",
    "len(p_row)"
   ]
  },
  {
   "cell_type": "code",
   "execution_count": 6,
   "metadata": {},
   "outputs": [
    {
     "data": {
      "text/plain": [
       "[['N', 'S', 'V', 'R', 'T', 'N', 'G', 'Z', 'W'],\n",
       " ['B', 'R', 'C', 'T', 'C', 'V', 'C', 'B', 'P'],\n",
       " ['D', 'M', 'R', 'J', 'J', 'P', 'V', 'P', 'J'],\n",
       " ['T', 'D', 'S', 'Z', 'N', 'W', 'B', 'N', ' '],\n",
       " ['V', 'W', 'Z', 'P', 'D', 'G', 'P', ' ', ' '],\n",
       " ['G', 'P', ' ', 'H', 'Z', 'S', 'Q', ' ', ' '],\n",
       " ['Z', 'F', ' ', 'G', 'Q', 'F', ' ', ' ', ' '],\n",
       " ['J', ' ', ' ', ' ', 'F', 'M', ' ', ' ', ' ']]"
      ]
     },
     "execution_count": 6,
     "metadata": {},
     "output_type": "execute_result"
    }
   ],
   "source": [
    "[process_line(p_row) for p_row in reversed(world_state)]"
   ]
  },
  {
   "cell_type": "code",
   "execution_count": 41,
   "metadata": {},
   "outputs": [],
   "source": [
    "from pydantic import BaseModel\n",
    "\n",
    "class Order(BaseModel):\n",
    "    num_to_move: int\n",
    "    start: int\n",
    "    end: int\n",
    "\n",
    "class World():\n",
    "    def __init__(self, size:int, init_state: List[str]) -> None:\n",
    "        self.stacks = [[] for _ in range(size)]\n",
    "        \n",
    "        p_state = [process_line(p_row) for p_row in reversed(world_state)]\n",
    "        \n",
    "        for row in p_state:\n",
    "            for i, box in enumerate(row):\n",
    "                if box.strip():\n",
    "                    self.stacks[i].append(box)\n",
    "        \n",
    "    def move_stack(self, start: int, end: int) -> None:\n",
    "        item = self.stacks[start].pop()\n",
    "        \n",
    "        self.stacks[end].append(item)\n",
    "\n",
    "    def process_order(self, order: Order) -> None:\n",
    "        for _ in range(order.num_to_move):\n",
    "            self.move_stack(start=order.start - 1, end=order.end - 1)\n",
    "        \n",
    "    def get_top_boxes(self) -> str:\n",
    "        tb = [s[-1] for s in self.stacks]\n",
    "        return \"\".join(tb)\n",
    "        "
   ]
  },
  {
   "cell_type": "code",
   "execution_count": 8,
   "metadata": {},
   "outputs": [
    {
     "name": "stdout",
     "output_type": "stream",
     "text": [
      "[['N', 'B', 'D', 'T', 'V', 'G', 'Z', 'J'], ['S', 'R', 'M', 'D', 'W', 'P', 'F'], ['V', 'C', 'R', 'S', 'Z'], ['R', 'T', 'J', 'Z', 'P', 'H', 'G'], ['T', 'C', 'J', 'N', 'D', 'Z', 'Q', 'F'], ['N', 'V', 'P', 'W', 'G', 'S', 'F', 'M'], ['G', 'C', 'V', 'B', 'P', 'Q'], ['Z', 'B', 'P', 'N'], ['W', 'P', 'J']]\n"
     ]
    },
    {
     "data": {
      "text/plain": [
       "[['N', 'B', 'D', 'T', 'V', 'G', 'Z'],\n",
       " ['S', 'R', 'M', 'D', 'W', 'P', 'F', 'J'],\n",
       " ['V', 'C', 'R', 'S', 'Z'],\n",
       " ['R', 'T', 'J', 'Z', 'P', 'H', 'G'],\n",
       " ['T', 'C', 'J', 'N', 'D', 'Z', 'Q', 'F'],\n",
       " ['N', 'V', 'P', 'W', 'G', 'S', 'F', 'M'],\n",
       " ['G', 'C', 'V', 'B', 'P', 'Q'],\n",
       " ['Z', 'B', 'P', 'N'],\n",
       " ['W', 'P', 'J']]"
      ]
     },
     "execution_count": 8,
     "metadata": {},
     "output_type": "execute_result"
    }
   ],
   "source": [
    "world = World(9, world_state)\n",
    "print(world.stacks)\n",
    "world.move_stack(0, 1)\n",
    "world.stacks"
   ]
  },
  {
   "cell_type": "code",
   "execution_count": 9,
   "metadata": {},
   "outputs": [
    {
     "data": {
      "text/plain": [
       "['move 2 from 4 to 6',\n",
       " 'move 1 from 9 to 5',\n",
       " 'move 3 from 2 to 4',\n",
       " 'move 8 from 4 to 7',\n",
       " 'move 2 from 9 to 7',\n",
       " 'move 3 from 8 to 3',\n",
       " 'move 2 from 1 to 2',\n",
       " 'move 5 from 7 to 9',\n",
       " 'move 1 from 9 to 4',\n",
       " 'move 1 from 8 to 3']"
      ]
     },
     "execution_count": 9,
     "metadata": {},
     "output_type": "execute_result"
    }
   ],
   "source": [
    "raw_orders = inputs.read_input(5).split(\"\\n\")[10:]\n",
    "raw_orders[:10]"
   ]
  },
  {
   "cell_type": "code",
   "execution_count": 10,
   "metadata": {},
   "outputs": [
    {
     "data": {
      "text/plain": [
       "Order(num_to_move=2, start=4, end=6)"
      ]
     },
     "execution_count": 10,
     "metadata": {},
     "output_type": "execute_result"
    }
   ],
   "source": [
    "nums = re.findall(r\"\\d\", raw_orders[0])\n",
    "\n",
    "Order(num_to_move=nums[0], start=nums[1], end=nums[2])"
   ]
  },
  {
   "cell_type": "code",
   "execution_count": 31,
   "metadata": {},
   "outputs": [],
   "source": [
    "def process_raw_order(row: str) -> Order:\n",
    "    nums = re.findall(r\"\\d+\", row)\n",
    "    return Order(num_to_move=nums[0], start=nums[1], end=nums[2])"
   ]
  },
  {
   "cell_type": "code",
   "execution_count": 32,
   "metadata": {},
   "outputs": [],
   "source": [
    "order_list = [process_raw_order(row) for row in raw_orders]"
   ]
  },
  {
   "cell_type": "code",
   "execution_count": 33,
   "metadata": {},
   "outputs": [
    {
     "name": "stdout",
     "output_type": "stream",
     "text": [
      "[['N', 'B', 'D', 'T', 'V', 'G', 'Z', 'J'], ['S', 'R', 'M', 'D', 'W', 'P', 'F'], ['V', 'C', 'R', 'S', 'Z'], ['R', 'T', 'J', 'Z', 'P', 'H', 'G'], ['T', 'C', 'J', 'N', 'D', 'Z', 'Q', 'F'], ['N', 'V', 'P', 'W', 'G', 'S', 'F', 'M'], ['G', 'C', 'V', 'B', 'P', 'Q'], ['Z', 'B', 'P', 'N'], ['W', 'P', 'J']]\n",
      "num_to_move=2 start=4 end=6\n",
      "num_to_move=1 start=9 end=5\n",
      "num_to_move=3 start=2 end=4\n",
      "num_to_move=8 start=4 end=7\n",
      "num_to_move=2 start=9 end=7\n",
      "num_to_move=3 start=8 end=3\n",
      "num_to_move=2 start=1 end=2\n",
      "num_to_move=5 start=7 end=9\n",
      "num_to_move=1 start=9 end=4\n",
      "num_to_move=1 start=8 end=3\n",
      "num_to_move=1 start=3 end=4\n",
      "num_to_move=2 start=4 end=9\n",
      "num_to_move=7 start=3 end=5\n",
      "num_to_move=6 start=1 end=8\n",
      "num_to_move=11 start=7 end=9\n",
      "num_to_move=12 start=5 end=3\n",
      "num_to_move=6 start=6 end=9\n",
      "num_to_move=3 start=3 end=8\n",
      "num_to_move=4 start=2 end=7\n",
      "num_to_move=3 start=5 end=7\n"
     ]
    }
   ],
   "source": [
    "world = World(9, world_state)\n",
    "\n",
    "print(world.stacks)\n",
    "\n",
    "for i in range(20):\n",
    "    print(order_list[i])\n",
    "    world.process_order(order_list[i])"
   ]
  },
  {
   "cell_type": "code",
   "execution_count": 38,
   "metadata": {},
   "outputs": [
    {
     "data": {
      "text/plain": [
       "'GFTNRBZPF'"
      ]
     },
     "execution_count": 38,
     "metadata": {},
     "output_type": "execute_result"
    }
   ],
   "source": [
    "world = World(9, world_state)\n",
    "\n",
    "for o in order_list:\n",
    "    world.process_order(o)\n",
    "\n",
    "world.get_top_boxes()"
   ]
  },
  {
   "cell_type": "markdown",
   "metadata": {},
   "source": [
    "# Part 2"
   ]
  },
  {
   "cell_type": "code",
   "execution_count": 48,
   "metadata": {},
   "outputs": [],
   "source": [
    "class World_2():\n",
    "    def __init__(self, size:int, init_state: List[str]) -> None:\n",
    "        self.stacks = [[] for _ in range(size)]\n",
    "        \n",
    "        p_state = [process_line(p_row) for p_row in reversed(world_state)]\n",
    "        \n",
    "        for row in p_state:\n",
    "            for i, box in enumerate(row):\n",
    "                if box.strip():\n",
    "                    self.stacks[i].append(box)\n",
    "        \n",
    "    def move_stack(self, order: Order) -> None:\n",
    "        items = self.stacks[order.start - 1][-order.num_to_move:]\n",
    "        \n",
    "        del self.stacks[order.start - 1][-order.num_to_move:]\n",
    "        \n",
    "        self.stacks[order.end - 1].extend(items)\n",
    "\n",
    "    def get_top_boxes(self) -> str:\n",
    "        tb = [s[-1] for s in self.stacks]\n",
    "        return \"\".join(tb)"
   ]
  },
  {
   "cell_type": "code",
   "execution_count": 49,
   "metadata": {},
   "outputs": [
    {
     "name": "stdout",
     "output_type": "stream",
     "text": [
      "[['N', 'B', 'D', 'T', 'V', 'G', 'Z', 'J'], ['S', 'R', 'M', 'D', 'W', 'P', 'F'], ['V', 'C', 'R', 'S', 'Z'], ['R', 'T', 'J', 'Z', 'P', 'H', 'G'], ['T', 'C', 'J', 'N', 'D', 'Z', 'Q', 'F'], ['N', 'V', 'P', 'W', 'G', 'S', 'F', 'M'], ['G', 'C', 'V', 'B', 'P', 'Q'], ['Z', 'B', 'P', 'N'], ['W', 'P', 'J']]\n",
      "num_to_move=2 start=4 end=6\n",
      "[['N', 'B', 'D', 'T', 'V', 'G', 'Z', 'J'], ['S', 'R', 'M', 'D', 'W', 'P', 'F'], ['V', 'C', 'R', 'S', 'Z'], ['R', 'T', 'J', 'Z', 'P'], ['T', 'C', 'J', 'N', 'D', 'Z', 'Q', 'F'], ['N', 'V', 'P', 'W', 'G', 'S', 'F', 'M', 'H', 'G'], ['G', 'C', 'V', 'B', 'P', 'Q'], ['Z', 'B', 'P', 'N'], ['W', 'P', 'J']]\n"
     ]
    }
   ],
   "source": [
    "world = World_2(9, world_state)\n",
    "\n",
    "print(world.stacks)\n",
    "print(order_list[0])\n",
    "world.move_stack(order_list[0])\n",
    "print(world.stacks)"
   ]
  },
  {
   "cell_type": "code",
   "execution_count": 50,
   "metadata": {},
   "outputs": [
    {
     "data": {
      "text/plain": [
       "'VRQWPDSGP'"
      ]
     },
     "execution_count": 50,
     "metadata": {},
     "output_type": "execute_result"
    }
   ],
   "source": [
    "\n",
    "world = World_2(9, world_state)\n",
    "\n",
    "for o in order_list:\n",
    "    world.move_stack(o)\n",
    "\n",
    "world.get_top_boxes()"
   ]
  }
 ],
 "metadata": {
  "kernelspec": {
   "display_name": ".venv",
   "language": "python",
   "name": "python3"
  },
  "language_info": {
   "codemirror_mode": {
    "name": "ipython",
    "version": 3
   },
   "file_extension": ".py",
   "mimetype": "text/x-python",
   "name": "python",
   "nbconvert_exporter": "python",
   "pygments_lexer": "ipython3",
   "version": "3.11.6"
  }
 },
 "nbformat": 4,
 "nbformat_minor": 2
}
