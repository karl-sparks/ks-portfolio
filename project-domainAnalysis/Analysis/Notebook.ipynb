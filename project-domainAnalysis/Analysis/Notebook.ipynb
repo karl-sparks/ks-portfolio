{
 "cells": [
  {
   "cell_type": "code",
   "execution_count": null,
   "metadata": {},
   "outputs": [],
   "source": [
    "import pandas as pd\n",
    "import domainAPIAccess as domain\n",
    "import numpy as np\n",
    "import json\n",
    "import os\n",
    "wd_path = r'C:\\dev\\data\\daily_scrap'"
   ]
  },
  {
   "cell_type": "code",
   "execution_count": null,
   "metadata": {},
   "outputs": [],
   "source": [
    "QLD_postcodes = [f'{i:04}' for i in range(4149, 5000)]\n",
    "\n",
    "for pc in QLD_postcodes:\n",
    "    domain.query_API(wd_path, postcode=pc)"
   ]
  },
  {
   "cell_type": "code",
   "execution_count": 59,
   "metadata": {},
   "outputs": [
    {
     "name": "stdout",
     "output_type": "stream",
     "text": [
      "<class 'pandas.core.frame.DataFrame'>\n",
      "RangeIndex: 61878 entries, 0 to 61877\n",
      "Data columns (total 49 columns):\n",
      " #   Column                              Non-Null Count  Dtype  \n",
      "---  ------                              --------------  -----  \n",
      " 0   listingType                         61878 non-null  object \n",
      " 1   id                                  61878 non-null  int64  \n",
      " 2   media                               61823 non-null  object \n",
      " 3   headline                            61875 non-null  object \n",
      " 4   summaryDescription                  61878 non-null  object \n",
      " 5   hasFloorplan                        61878 non-null  bool   \n",
      " 6   hasVideo                            61878 non-null  bool   \n",
      " 7   labels                              61878 non-null  object \n",
      " 8   dateListed                          61878 non-null  object \n",
      " 9   listingSlug                         61878 non-null  object \n",
      " 10  advertiser.type                     61878 non-null  object \n",
      " 11  advertiser.id                       61878 non-null  int64  \n",
      " 12  advertiser.name                     61878 non-null  object \n",
      " 13  advertiser.logoUrl                  60589 non-null  object \n",
      " 14  advertiser.preferredColourHex       61878 non-null  object \n",
      " 15  advertiser.bannerUrl                59558 non-null  object \n",
      " 16  advertiser.contacts                 61878 non-null  object \n",
      " 17  priceDetails.displayPrice           61878 non-null  object \n",
      " 18  propertyDetails.state               61878 non-null  object \n",
      " 19  propertyDetails.features            61878 non-null  object \n",
      " 20  propertyDetails.propertyType        61878 non-null  object \n",
      " 21  propertyDetails.allPropertyTypes    61878 non-null  object \n",
      " 22  propertyDetails.bathrooms           61878 non-null  float64\n",
      " 23  propertyDetails.bedrooms            61878 non-null  float64\n",
      " 24  propertyDetails.carspaces           61878 non-null  float64\n",
      " 25  propertyDetails.unitNumber          61878 non-null  object \n",
      " 26  propertyDetails.streetNumber        61878 non-null  object \n",
      " 27  propertyDetails.street              61878 non-null  object \n",
      " 28  propertyDetails.area                61878 non-null  object \n",
      " 29  propertyDetails.region              61878 non-null  object \n",
      " 30  propertyDetails.suburb              61878 non-null  object \n",
      " 31  propertyDetails.postcode            61878 non-null  object \n",
      " 32  propertyDetails.displayableAddress  61878 non-null  object \n",
      " 33  propertyDetails.latitude            61863 non-null  float64\n",
      " 34  propertyDetails.longitude           61863 non-null  float64\n",
      " 35  propertyDetails.landArea            38858 non-null  float64\n",
      " 36  inspectionSchedule.byAppointment    61878 non-null  bool   \n",
      " 37  inspectionSchedule.recurring        61878 non-null  bool   \n",
      " 38  inspectionSchedule.times            61878 non-null  object \n",
      " 39  auctionSchedule.time                4369 non-null   object \n",
      " 40  auctionSchedule.auctionLocation     4369 non-null   object \n",
      " 41  propertyDetails.buildingArea        10522 non-null  float64\n",
      " 42  priceDetails.price                  12025 non-null  float64\n",
      " 43  priceDetails.priceFrom              12025 non-null  float64\n",
      " 44  priceDetails.priceTo                12025 non-null  float64\n",
      " 45  query                               61878 non-null  object \n",
      " 46  projectId                           1307 non-null   float64\n",
      " 47  converted_price                     38835 non-null  float64\n",
      " 48  price                               38748 non-null  float64\n",
      "dtypes: bool(4), float64(13), int64(2), object(30)\n",
      "memory usage: 21.5+ MB\n",
      "None\n"
     ]
    }
   ],
   "source": [
    "df = domain.clean_data(wd_path)\n",
    "print(df.info())\n",
    "\n",
    "test = r'C:\\dev\\data\\main_data\\domain_data_cleaned.feather'"
   ]
  },
  {
   "cell_type": "code",
   "execution_count": 60,
   "metadata": {},
   "outputs": [
    {
     "name": "stdout",
     "output_type": "stream",
     "text": [
      "61,878 properties succesfully saved to: C:\\dev\\data\\main_data\\domain_data_cleaned.feather\n"
     ]
    }
   ],
   "source": [
    "print(f'{len(df):,} properties succesfully saved to: {test}')"
   ]
  },
  {
   "cell_type": "code",
   "execution_count": null,
   "metadata": {},
   "outputs": [],
   "source": [
    "print(df.tail())"
   ]
  },
  {
   "cell_type": "code",
   "execution_count": 55,
   "metadata": {},
   "outputs": [
    {
     "name": "stdout",
     "output_type": "stream",
     "text": [
      "Checking 9999 postcodes\n"
     ]
    }
   ],
   "source": [
    "pc_df = pd.read_feather(r'C:\\dev\\data\\checked_postcodes.feather')\n",
    "unchecked_postcodes = pc_df[~pc_df['Checked']].postcode\n",
    "print(f'Checking {len(pc_df) - pc_df[\"Checked\"].sum()} postcodes')"
   ]
  },
  {
   "cell_type": "code",
   "execution_count": null,
   "metadata": {},
   "outputs": [],
   "source": []
  },
  {
   "cell_type": "code",
   "execution_count": null,
   "metadata": {},
   "outputs": [],
   "source": [
    "df = domain.concat_raw_data(r'C:\\dev\\data\\NSW_first_scrap')"
   ]
  },
  {
   "cell_type": "code",
   "execution_count": null,
   "metadata": {},
   "outputs": [],
   "source": [
    "print(f'Total rows: {len(df)}')\n",
    "print(f'Number of duplicates: {np.sum(df.duplicated(\"id\"))}')\n",
    "\n",
    "df.drop_duplicates('id', inplace=True)\n",
    "\n",
    "print(f'Number of unique rows: {len(df)}')\n",
    "\n",
    "display(df.columns)\n",
    "display(df.head(5))"
   ]
  },
  {
   "cell_type": "code",
   "execution_count": null,
   "metadata": {},
   "outputs": [],
   "source": [
    "df['converted_price'] = df['priceDetails.displayPrice'].apply(domain.convert_price_to_dollars)\n",
    "\n",
    "df['price'] = df['priceDetails.price'].fillna(df['converted_price'])\n",
    "\n",
    "fillnavalues = {\n",
    "    'propertyDetails.bathrooms': 0,\n",
    "    'propertyDetails.bedrooms': 0,\n",
    "    'propertyDetails.carspaces': 0\n",
    "}\n",
    "\n",
    "df.fillna(fillnavalues, inplace=True)\n",
    "\n",
    "df.loc[(df['price'] < 25000) | (df['price'] > 10000000), 'price'] = np.nan\n",
    "\n",
    "display(df.describe())\n",
    "\n",
    "display(df[['listingSlug', 'priceDetails.displayPrice', 'price']].sort_values('price').head(20))"
   ]
  },
  {
   "cell_type": "code",
   "execution_count": null,
   "metadata": {},
   "outputs": [],
   "source": [
    "df['hasPrice'] = df['price'].notna()\n",
    "\n",
    "print(f\"{df['hasPrice'].sum()} out of {len(df)} ({df['hasPrice'].sum()/len(df)*100:.2f} per cent) properties have a advertised price.\")\n",
    "\n",
    "df.reset_index(drop=True).to_feather(r'C:\\dev\\data\\NSW_advertised_scrapped_7_January.feather')"
   ]
  }
 ],
 "metadata": {
  "interpreter": {
   "hash": "00a9d32e041e276575000ea093303e69e2915657064dc81fca3415cdf0daad3b"
  },
  "kernelspec": {
   "display_name": "Python 3.10.1 64-bit",
   "language": "python",
   "name": "python3"
  },
  "language_info": {
   "codemirror_mode": {
    "name": "ipython",
    "version": 3
   },
   "file_extension": ".py",
   "mimetype": "text/x-python",
   "name": "python",
   "nbconvert_exporter": "python",
   "pygments_lexer": "ipython3",
   "version": "3.10.1"
  },
  "orig_nbformat": 4
 },
 "nbformat": 4,
 "nbformat_minor": 2
}
