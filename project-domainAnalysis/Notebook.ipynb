{
 "cells": [
  {
   "cell_type": "code",
   "execution_count": 1,
   "metadata": {},
   "outputs": [],
   "source": [
    "import pandas as pd\n",
    "import domainAPIAccess as domain\n",
    "import json"
   ]
  },
  {
   "cell_type": "code",
   "execution_count": 2,
   "metadata": {},
   "outputs": [],
   "source": [
    "response = domain.query_domain_api()\n",
    "\n",
    "\n"
   ]
  },
  {
   "cell_type": "code",
   "execution_count": 31,
   "metadata": {},
   "outputs": [
    {
     "data": {
      "text/plain": [
       "int"
      ]
     },
     "execution_count": 31,
     "metadata": {},
     "output_type": "execute_result"
    }
   ],
   "source": [
    "response.status_code"
   ]
  },
  {
   "cell_type": "code",
   "execution_count": 48,
   "metadata": {},
   "outputs": [
    {
     "name": "stdout",
     "output_type": "stream",
     "text": [
      "2\n",
      "3\n",
      "4\n"
     ]
    }
   ],
   "source": [
    "num = int(response.headers['X-Total-Count'])\n",
    "\n",
    "number_of_pages = num // 100 + (num % 100 > 1)\n",
    "\n",
    "for i in range(2, number_of_pages + 1):\n",
    "    print(i)"
   ]
  },
  {
   "cell_type": "code",
   "execution_count": 3,
   "metadata": {},
   "outputs": [
    {
     "name": "stdout",
     "output_type": "stream",
     "text": [
      "100\n",
      "113\n"
     ]
    }
   ],
   "source": [
    "res_json = response.json()\n",
    "print(len(res_json))\n",
    "prop_listings = domain.extract_listings(res_json)\n",
    "print(len(prop_listings))"
   ]
  },
  {
   "cell_type": "code",
   "execution_count": 9,
   "metadata": {},
   "outputs": [
    {
     "data": {
      "text/plain": [
       "dict_keys(['listingType', 'id', 'projectId', 'advertiser', 'priceDetails', 'media', 'propertyDetails', 'headline', 'summaryDescription', 'hasFloorplan', 'hasVideo', 'labels', 'dateListed', 'inspectionSchedule', 'listingSlug'])"
      ]
     },
     "execution_count": 9,
     "metadata": {},
     "output_type": "execute_result"
    }
   ],
   "source": [
    "prop_listings[0].keys()"
   ]
  },
  {
   "cell_type": "code",
   "execution_count": 22,
   "metadata": {},
   "outputs": [
    {
     "data": {
      "text/plain": [
       "Index(['listingType', 'id', 'projectId', 'media', 'headline',\n",
       "       'summaryDescription', 'hasFloorplan', 'hasVideo', 'labels',\n",
       "       'dateListed', 'listingSlug', 'advertiser.type', 'advertiser.id',\n",
       "       'advertiser.name', 'advertiser.preferredColourHex',\n",
       "       'advertiser.contacts', 'priceDetails.displayPrice',\n",
       "       'propertyDetails.state', 'propertyDetails.features',\n",
       "       'propertyDetails.propertyType', 'propertyDetails.allPropertyTypes',\n",
       "       'propertyDetails.bathrooms', 'propertyDetails.bedrooms',\n",
       "       'propertyDetails.unitNumber', 'propertyDetails.streetNumber',\n",
       "       'propertyDetails.street', 'propertyDetails.area',\n",
       "       'propertyDetails.region', 'propertyDetails.suburb',\n",
       "       'propertyDetails.postcode', 'propertyDetails.displayableAddress',\n",
       "       'propertyDetails.latitude', 'propertyDetails.longitude',\n",
       "       'inspectionSchedule.byAppointment', 'inspectionSchedule.recurring',\n",
       "       'inspectionSchedule.times', 'propertyDetails.carspaces',\n",
       "       'advertiser.logoUrl', 'advertiser.bannerUrl', 'priceDetails.price',\n",
       "       'priceDetails.priceFrom', 'priceDetails.priceTo',\n",
       "       'propertyDetails.buildingArea', 'propertyDetails.landArea',\n",
       "       'auctionSchedule.time', 'auctionSchedule.auctionLocation'],\n",
       "      dtype='object')"
      ]
     },
     "execution_count": 22,
     "metadata": {},
     "output_type": "execute_result"
    }
   ],
   "source": [
    "df = pd.json_normalize(prop_listings)\n",
    "df.columns"
   ]
  },
  {
   "cell_type": "code",
   "execution_count": 28,
   "metadata": {},
   "outputs": [
    {
     "name": "stdout",
     "output_type": "stream",
     "text": [
      "0       True\n",
      "1       True\n",
      "2       True\n",
      "3       True\n",
      "4       True\n",
      "       ...  \n",
      "108    False\n",
      "109    False\n",
      "110    False\n",
      "111    False\n",
      "112    False\n",
      "Name: hasVideo, Length: 113, dtype: bool\n"
     ]
    }
   ],
   "source": [
    "print(df['hasVideo'])\n"
   ]
  },
  {
   "cell_type": "code",
   "execution_count": 11,
   "metadata": {},
   "outputs": [
    {
     "name": "stdout",
     "output_type": "stream",
     "text": [
      "{'displayPrice': 'Starting from $1.665mil'}\n",
      "{'displayPrice': 'Contact Agent'}\n",
      "{'displayPrice': 'Starting from $1.23mil'}\n",
      "{'displayPrice': 'Contact Agent'}\n",
      "{'displayPrice': 'Contact Agent'}\n",
      "{'displayPrice': 'Contact Agent'}\n",
      "{'displayPrice': 'Contact Agent'}\n",
      "{'displayPrice': 'Contact Agent'}\n",
      "{'displayPrice': '$1,800,000'}\n",
      "{'displayPrice': 'For Sale: $3,300,000'}\n",
      "{'displayPrice': 'Contact Agent'}\n",
      "{'displayPrice': 'Contact Agent'}\n",
      "{'displayPrice': 'Contact Agent'}\n",
      "{'displayPrice': 'Contact Agent'}\n",
      "{'displayPrice': 'Contact Agent'}\n",
      "{'displayPrice': 'Contact Agent'}\n",
      "{'price': 825000, 'priceFrom': 825000, 'priceTo': 825000, 'displayPrice': '$825,000'}\n",
      "{'price': 1283000, 'priceFrom': 1283000, 'priceTo': 1283000, 'displayPrice': '$1,283,000'}\n",
      "{'price': 1258000, 'priceFrom': 1258000, 'priceTo': 1258000, 'displayPrice': '$1,258,000'}\n",
      "{'price': 1680000, 'priceFrom': 1680000, 'priceTo': 1680000, 'displayPrice': '$1,680,000'}\n",
      "{'displayPrice': 'Contact Agent'}\n",
      "{'displayPrice': 'Inspections by Appointment | Forthcoming Auction'}\n",
      "{'displayPrice': 'Contact Agent'}\n",
      "{'displayPrice': '$4,180,000'}\n",
      "{'displayPrice': 'Contact Agent'}\n",
      "{'displayPrice': 'By appointment'}\n",
      "{'displayPrice': 'Contact Agent for Price'}\n",
      "{'displayPrice': 'ASK AGENT'}\n",
      "{'displayPrice': '$650,000 - $675,000'}\n",
      "{'displayPrice': 'Contact Agent'}\n",
      "{'displayPrice': 'contact agent'}\n",
      "{'displayPrice': 'Just listed'}\n",
      "{'displayPrice': 'Contact Agent'}\n",
      "{'displayPrice': 'Contact Agent'}\n",
      "{'displayPrice': 'Auction To Be Advised'}\n",
      "{'displayPrice': 'Contact Agent for Private inspection'}\n",
      "{'displayPrice': 'Auction'}\n",
      "{'displayPrice': 'Contact agent'}\n",
      "{'displayPrice': 'Contact Agent'}\n",
      "{'price': 768000, 'priceFrom': 768000, 'priceTo': 768000, 'displayPrice': '$768,000'}\n",
      "{'displayPrice': 'Contact Agent'}\n",
      "{'displayPrice': 'Contact agent'}\n",
      "{'displayPrice': 'FOR SALE'}\n",
      "{'displayPrice': 'Expressions of Interest'}\n",
      "{'displayPrice': 'Contact Agent'}\n",
      "{'displayPrice': 'Contact Agent'}\n",
      "{'displayPrice': 'Just Listed | Call Justin to Inspect'}\n",
      "{'displayPrice': 'Expressions of Interest'}\n",
      "{'displayPrice': 'Contact Agent'}\n",
      "{'displayPrice': 'Auction To Be Advised'}\n",
      "{'displayPrice': '$1,150,000'}\n",
      "{'price': 9250000, 'priceFrom': 9250000, 'priceTo': 9250000, 'displayPrice': '$9,250,000'}\n",
      "{'displayPrice': 'Contact Agent'}\n",
      "{'displayPrice': 'Contact Agent'}\n",
      "{'displayPrice': 'Price Guide $1.79m, Auction unless sold prior.'}\n",
      "{'displayPrice': 'Contact Agent'}\n",
      "{'displayPrice': 'Contact Agent'}\n",
      "{'displayPrice': 'Contact Agent'}\n",
      "{'displayPrice': 'Expressions of interest'}\n",
      "{'displayPrice': 'Contact Agent'}\n",
      "{'displayPrice': 'Contact Agent'}\n",
      "{'displayPrice': 'Price Upon Request'}\n",
      "{'displayPrice': 'Price Guide: $2.65 - $2.75 million'}\n",
      "{'displayPrice': '$1,100,000 - $1,200,000'}\n",
      "{'displayPrice': 'Expressions of Interest'}\n",
      "{'displayPrice': 'Contact Agent'}\n",
      "{'displayPrice': 'Contact Agent'}\n",
      "{'displayPrice': 'Asking $550,000'}\n",
      "{'displayPrice': '$1,695,000'}\n",
      "{'displayPrice': 'Contact Agent'}\n",
      "{'displayPrice': 'Contact Agent Alicia 0409 888 988'}\n",
      "{'displayPrice': 'Contact Agent'}\n",
      "{'price': 2800000, 'priceFrom': 2800000, 'priceTo': 2800000, 'displayPrice': '$2,800,000'}\n",
      "{'displayPrice': 'FOR SALE'}\n",
      "{'displayPrice': 'Price range $1.68M - $1.78M'}\n",
      "{'displayPrice': 'Under Offer'}\n",
      "{'displayPrice': 'CONTACT AGENT'}\n",
      "{'displayPrice': '$690,000 to $730,000'}\n",
      "{'displayPrice': '$739,000'}\n",
      "{'displayPrice': 'Contact Agent'}\n",
      "{'displayPrice': '$980,000 - $1,050,000'}\n",
      "{'displayPrice': 'New Price Guide, Inspect 7 Days'}\n",
      "{'displayPrice': 'Asking Price $3,550,000'}\n",
      "{'displayPrice': 'Contact Agent'}\n",
      "{'displayPrice': 'Contact Agent'}\n",
      "{'displayPrice': 'Contact Agent'}\n",
      "{'displayPrice': 'North Facing | Separate Study | Lendlease Quality'}\n",
      "{'price': 975000, 'priceFrom': 975000, 'priceTo': 975000, 'displayPrice': '$975,000'}\n",
      "{'displayPrice': 'Expressions of Interest'}\n",
      "{'displayPrice': 'Contact Agent'}\n",
      "{'displayPrice': '$949,000'}\n",
      "{'displayPrice': 'Auction date to be advised'}\n",
      "{'displayPrice': '$1,300,000'}\n",
      "{'displayPrice': '$890,000 to $930,000'}\n",
      "{'displayPrice': '$1,255,000'}\n",
      "{'displayPrice': 'Contact Agent'}\n",
      "{'displayPrice': 'Contact Agent'}\n",
      "{'displayPrice': 'Contact Agent'}\n",
      "{'displayPrice': 'Contact Agent'}\n",
      "{'displayPrice': 'Price on request'}\n",
      "{'displayPrice': 'Price on request'}\n",
      "{'displayPrice': '$4,500,000'}\n",
      "{'displayPrice': 'Contact Agent'}\n",
      "{'price': 3880000, 'priceFrom': 3880000, 'priceTo': 3880000, 'displayPrice': '$3,880,000'}\n",
      "{'displayPrice': '$2,150,000'}\n",
      "{'displayPrice': '$2,250,000'}\n",
      "{'displayPrice': 'Contact Agent'}\n",
      "{'displayPrice': 'For sale - $900,000 - $950,000'}\n",
      "{'displayPrice': 'Contact Agent'}\n",
      "{'displayPrice': 'For Sale'}\n",
      "{'displayPrice': 'SOLD - Price withheld'}\n",
      "{'displayPrice': 'Contact Agent'}\n",
      "{'displayPrice': 'Contact Agent'}\n"
     ]
    }
   ],
   "source": [
    "for listing in prop_listings:\n",
    "\n",
    "    priceDetails = listing['priceDetails']\n",
    "    if 'price' in priceDetails:\n",
    "        listing['price'] = priceDetails['price']\n",
    "    else:\n",
    "        listing['price'] = priceDetails['displayPrice']"
   ]
  }
 ],
 "metadata": {
  "interpreter": {
   "hash": "00a9d32e041e276575000ea093303e69e2915657064dc81fca3415cdf0daad3b"
  },
  "kernelspec": {
   "display_name": "Python 3.10.1 64-bit",
   "language": "python",
   "name": "python3"
  },
  "language_info": {
   "codemirror_mode": {
    "name": "ipython",
    "version": 3
   },
   "file_extension": ".py",
   "mimetype": "text/x-python",
   "name": "python",
   "nbconvert_exporter": "python",
   "pygments_lexer": "ipython3",
   "version": "3.10.1"
  },
  "orig_nbformat": 4
 },
 "nbformat": 4,
 "nbformat_minor": 2
}
