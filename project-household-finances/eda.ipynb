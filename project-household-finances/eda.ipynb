{
 "cells": [
  {
   "cell_type": "code",
   "execution_count": 1,
   "metadata": {},
   "outputs": [],
   "source": [
    "import polars as pl\n",
    "\n",
    "import load_data as ld"
   ]
  },
  {
   "cell_type": "code",
   "execution_count": 13,
   "metadata": {},
   "outputs": [],
   "source": [
    "at = ld.load_accounts_table()\n",
    "tt = ld.load_transactions_table()"
   ]
  },
  {
   "cell_type": "code",
   "execution_count": 3,
   "metadata": {},
   "outputs": [
    {
     "data": {
      "text/html": [
       "<div><style>\n",
       ".dataframe > thead > tr,\n",
       ".dataframe > tbody > tr {\n",
       "  text-align: right;\n",
       "  white-space: pre-wrap;\n",
       "}\n",
       "</style>\n",
       "<small>shape: (7, 9)</small><table border=\"1\" class=\"dataframe\"><thead><tr><th>account_id</th><th>name</th><th>balance</th><th>balance_in_base_units</th><th>balance_as_at</th><th>currency</th><th>type</th><th>ownership_type</th><th>created_at</th></tr><tr><td>str</td><td>str</td><td>f64</td><td>i64</td><td>datetime[μs, Australia/Sydney]</td><td>str</td><td>str</td><td>str</td><td>datetime[μs, Australia/Sydney]</td></tr></thead><tbody><tr><td>&quot;d81e5bbc-1bae-…</td><td>&quot;Spending&quot;</td><td>0.0</td><td>0</td><td>2024-02-17 16:29:49.557077 AEDT</td><td>&quot;AUD&quot;</td><td>&quot;TRANSACTIONAL&quot;</td><td>&quot;INDIVIDUAL&quot;</td><td>2021-05-28 20:31:44 AEST</td></tr><tr><td>&quot;6155d82c-5186-…</td><td>&quot;2Up Spending&quot;</td><td>311.19</td><td>31119</td><td>2024-02-17 16:29:50.724530 AEDT</td><td>&quot;AUD&quot;</td><td>&quot;TRANSACTIONAL&quot;</td><td>&quot;JOINT&quot;</td><td>2021-05-29 09:04:55 AEST</td></tr><tr><td>&quot;bc9f9776-5f4a-…</td><td>&quot;😈 Bills&quot;</td><td>213.65</td><td>21365</td><td>2024-02-17 16:31:34.934403 AEDT</td><td>&quot;AUD&quot;</td><td>&quot;SAVER&quot;</td><td>&quot;JOINT&quot;</td><td>2021-08-03 10:23:44 AEST</td></tr><tr><td>&quot;20f9b6c9-843d-…</td><td>&quot;🎮 Karl Fun&quot;</td><td>282.26</td><td>28226</td><td>2024-02-17 16:31:39.564999 AEDT</td><td>&quot;AUD&quot;</td><td>&quot;SAVER&quot;</td><td>&quot;JOINT&quot;</td><td>2021-08-03 13:16:03 AEST</td></tr><tr><td>&quot;dd5b8096-3b7a-…</td><td>&quot;💅 Flora Fun&quot;</td><td>1920.32</td><td>192032</td><td>2024-02-17 16:31:43.819822 AEDT</td><td>&quot;AUD&quot;</td><td>&quot;SAVER&quot;</td><td>&quot;JOINT&quot;</td><td>2021-08-03 13:30:15 AEST</td></tr><tr><td>&quot;f7dcebcd-6d68-…</td><td>&quot;💰 Flora&#x27;s Mum&quot;</td><td>5.07</td><td>507</td><td>2024-02-17 16:31:47.253 AEDT</td><td>&quot;AUD&quot;</td><td>&quot;SAVER&quot;</td><td>&quot;JOINT&quot;</td><td>2021-08-27 07:07:36 AEST</td></tr><tr><td>&quot;61497fb2-96dd-…</td><td>&quot;🚨 Health&quot;</td><td>623.82</td><td>62382</td><td>2024-02-17 16:31:48.186045 AEDT</td><td>&quot;AUD&quot;</td><td>&quot;SAVER&quot;</td><td>&quot;JOINT&quot;</td><td>2021-08-28 12:53:16 AEST</td></tr></tbody></table></div>"
      ],
      "text/plain": [
       "shape: (7, 9)\n",
       "┌───────────┬──────────┬─────────┬──────────┬──────────┬──────────┬──────────┬──────────┬──────────┐\n",
       "│ account_i ┆ name     ┆ balance ┆ balance_ ┆ balance_ ┆ currency ┆ type     ┆ ownershi ┆ created_ │\n",
       "│ d         ┆ ---      ┆ ---     ┆ in_base_ ┆ as_at    ┆ ---      ┆ ---      ┆ p_type   ┆ at       │\n",
       "│ ---       ┆ str      ┆ f64     ┆ units    ┆ ---      ┆ str      ┆ str      ┆ ---      ┆ ---      │\n",
       "│ str       ┆          ┆         ┆ ---      ┆ datetime ┆          ┆          ┆ str      ┆ datetime │\n",
       "│           ┆          ┆         ┆ i64      ┆ [μs, Aus ┆          ┆          ┆          ┆ [μs, Aus │\n",
       "│           ┆          ┆         ┆          ┆ tralia/S ┆          ┆          ┆          ┆ tralia/S │\n",
       "│           ┆          ┆         ┆          ┆ ydney]   ┆          ┆          ┆          ┆ ydney]   │\n",
       "╞═══════════╪══════════╪═════════╪══════════╪══════════╪══════════╪══════════╪══════════╪══════════╡\n",
       "│ d81e5bbc- ┆ Spending ┆ 0.0     ┆ 0        ┆ 2024-02- ┆ AUD      ┆ TRANSACT ┆ INDIVIDU ┆ 2021-05- │\n",
       "│ 1bae-408c ┆          ┆         ┆          ┆ 17 16:29 ┆          ┆ IONAL    ┆ AL       ┆ 28       │\n",
       "│ -9f45-020 ┆          ┆         ┆          ┆ :49.5570 ┆          ┆          ┆          ┆ 20:31:44 │\n",
       "│ 3843d…    ┆          ┆         ┆          ┆ 77 AEDT  ┆          ┆          ┆          ┆ AEST     │\n",
       "│ 6155d82c- ┆ 2Up      ┆ 311.19  ┆ 31119    ┆ 2024-02- ┆ AUD      ┆ TRANSACT ┆ JOINT    ┆ 2021-05- │\n",
       "│ 5186-4369 ┆ Spending ┆         ┆          ┆ 17 16:29 ┆          ┆ IONAL    ┆          ┆ 29       │\n",
       "│ -99b9-05e ┆          ┆         ┆          ┆ :50.7245 ┆          ┆          ┆          ┆ 09:04:55 │\n",
       "│ 9c600…    ┆          ┆         ┆          ┆ 30 AEDT  ┆          ┆          ┆          ┆ AEST     │\n",
       "│ bc9f9776- ┆ 😈 Bills ┆ 213.65  ┆ 21365    ┆ 2024-02- ┆ AUD      ┆ SAVER    ┆ JOINT    ┆ 2021-08- │\n",
       "│ 5f4a-4e8b ┆          ┆         ┆          ┆ 17 16:31 ┆          ┆          ┆          ┆ 03       │\n",
       "│ -a8e5-113 ┆          ┆         ┆          ┆ :34.9344 ┆          ┆          ┆          ┆ 10:23:44 │\n",
       "│ fdf4a…    ┆          ┆         ┆          ┆ 03 AEDT  ┆          ┆          ┆          ┆ AEST     │\n",
       "│ 20f9b6c9- ┆ 🎮 Karl  ┆ 282.26  ┆ 28226    ┆ 2024-02- ┆ AUD      ┆ SAVER    ┆ JOINT    ┆ 2021-08- │\n",
       "│ 843d-4f3f ┆ Fun      ┆         ┆          ┆ 17 16:31 ┆          ┆          ┆          ┆ 03       │\n",
       "│ -9e56-fb0 ┆          ┆         ┆          ┆ :39.5649 ┆          ┆          ┆          ┆ 13:16:03 │\n",
       "│ 681f5…    ┆          ┆         ┆          ┆ 99 AEDT  ┆          ┆          ┆          ┆ AEST     │\n",
       "│ dd5b8096- ┆ 💅 Flora ┆ 1920.32 ┆ 192032   ┆ 2024-02- ┆ AUD      ┆ SAVER    ┆ JOINT    ┆ 2021-08- │\n",
       "│ 3b7a-42bf ┆ Fun      ┆         ┆          ┆ 17 16:31 ┆          ┆          ┆          ┆ 03       │\n",
       "│ -96de-ae7 ┆          ┆         ┆          ┆ :43.8198 ┆          ┆          ┆          ┆ 13:30:15 │\n",
       "│ e0a04…    ┆          ┆         ┆          ┆ 22 AEDT  ┆          ┆          ┆          ┆ AEST     │\n",
       "│ f7dcebcd- ┆ 💰       ┆ 5.07    ┆ 507      ┆ 2024-02- ┆ AUD      ┆ SAVER    ┆ JOINT    ┆ 2021-08- │\n",
       "│ 6d68-45bc ┆ Flora's  ┆         ┆          ┆ 17 16:31 ┆          ┆          ┆          ┆ 27       │\n",
       "│ -bd1f-e68 ┆ Mum      ┆         ┆          ┆ :47.253  ┆          ┆          ┆          ┆ 07:07:36 │\n",
       "│ 931ce…    ┆          ┆         ┆          ┆ AEDT     ┆          ┆          ┆          ┆ AEST     │\n",
       "│ 61497fb2- ┆ 🚨       ┆ 623.82  ┆ 62382    ┆ 2024-02- ┆ AUD      ┆ SAVER    ┆ JOINT    ┆ 2021-08- │\n",
       "│ 96dd-402d ┆ Health   ┆         ┆          ┆ 17 16:31 ┆          ┆          ┆          ┆ 28       │\n",
       "│ -b4b6-d67 ┆          ┆         ┆          ┆ :48.1860 ┆          ┆          ┆          ┆ 12:53:16 │\n",
       "│ 4bee3…    ┆          ┆         ┆          ┆ 45 AEDT  ┆          ┆          ┆          ┆ AEST     │\n",
       "└───────────┴──────────┴─────────┴──────────┴──────────┴──────────┴──────────┴──────────┴──────────┘"
      ]
     },
     "execution_count": 3,
     "metadata": {},
     "output_type": "execute_result"
    }
   ],
   "source": [
    "at"
   ]
  },
  {
   "cell_type": "code",
   "execution_count": 4,
   "metadata": {},
   "outputs": [
    {
     "data": {
      "text/plain": [
       "['transaction_id',\n",
       " 'account_id',\n",
       " 'amount',\n",
       " 'amount_in_base_units',\n",
       " 'card_purchase_method',\n",
       " 'cashback',\n",
       " 'category',\n",
       " 'created_at',\n",
       " 'description',\n",
       " 'foreign_amount',\n",
       " 'hold_info',\n",
       " 'message',\n",
       " 'raw_text',\n",
       " 'round_up',\n",
       " 'status',\n",
       " 'settled_at',\n",
       " 'tags',\n",
       " 'updated_at']"
      ]
     },
     "execution_count": 4,
     "metadata": {},
     "output_type": "execute_result"
    }
   ],
   "source": [
    "tt.columns"
   ]
  },
  {
   "cell_type": "code",
   "execution_count": 19,
   "metadata": {},
   "outputs": [
    {
     "data": {
      "text/html": [
       "<div><style>\n",
       ".dataframe > thead > tr,\n",
       ".dataframe > tbody > tr {\n",
       "  text-align: right;\n",
       "  white-space: pre-wrap;\n",
       "}\n",
       "</style>\n",
       "<small>shape: (7, 2)</small><table border=\"1\" class=\"dataframe\"><thead><tr><th>account_id</th><th>amount</th></tr><tr><td>str</td><td>f64</td></tr></thead><tbody><tr><td>&quot;d81e5bbc-1bae-…</td><td>0.0</td></tr><tr><td>&quot;dd5b8096-3b7a-…</td><td>1920.32</td></tr><tr><td>&quot;bc9f9776-5f4a-…</td><td>213.65</td></tr><tr><td>&quot;61497fb2-96dd-…</td><td>623.82</td></tr><tr><td>&quot;6155d82c-5186-…</td><td>85.87</td></tr><tr><td>&quot;20f9b6c9-843d-…</td><td>205.75</td></tr><tr><td>&quot;f7dcebcd-6d68-…</td><td>5.07</td></tr></tbody></table></div>"
      ],
      "text/plain": [
       "shape: (7, 2)\n",
       "┌───────────────────────────────────┬─────────┐\n",
       "│ account_id                        ┆ amount  │\n",
       "│ ---                               ┆ ---     │\n",
       "│ str                               ┆ f64     │\n",
       "╞═══════════════════════════════════╪═════════╡\n",
       "│ d81e5bbc-1bae-408c-9f45-0203843d… ┆ 0.0     │\n",
       "│ dd5b8096-3b7a-42bf-96de-ae7e0a04… ┆ 1920.32 │\n",
       "│ bc9f9776-5f4a-4e8b-a8e5-113fdf4a… ┆ 213.65  │\n",
       "│ 61497fb2-96dd-402d-b4b6-d674bee3… ┆ 623.82  │\n",
       "│ 6155d82c-5186-4369-99b9-05e9c600… ┆ 85.87   │\n",
       "│ 20f9b6c9-843d-4f3f-9e56-fb0681f5… ┆ 205.75  │\n",
       "│ f7dcebcd-6d68-45bc-bd1f-e68931ce… ┆ 5.07    │\n",
       "└───────────────────────────────────┴─────────┘"
      ]
     },
     "execution_count": 19,
     "metadata": {},
     "output_type": "execute_result"
    }
   ],
   "source": [
    "tt.group_by(\"account_id\").agg(\n",
    "    pl.col(\"amount\").sum()\n",
    ")"
   ]
  },
  {
   "cell_type": "code",
   "execution_count": 28,
   "metadata": {},
   "outputs": [
    {
     "ename": "ComputeError",
     "evalue": "regex error: regex parse error:\n    (?<=(parent='))\\w+\n    ^^^^\nerror: look-around, including look-ahead and look-behind, is not supported",
     "output_type": "error",
     "traceback": [
      "\u001b[0;31m---------------------------------------------------------------------------\u001b[0m",
      "\u001b[0;31mComputeError\u001b[0m                              Traceback (most recent call last)",
      "Cell \u001b[0;32mIn[28], line 1\u001b[0m\n\u001b[0;32m----> 1\u001b[0m processed_df \u001b[38;5;241m=\u001b[39m \u001b[43mtt\u001b[49m\u001b[38;5;241;43m.\u001b[39;49m\u001b[43mwith_columns\u001b[49m\u001b[43m(\u001b[49m\n\u001b[1;32m      2\u001b[0m \u001b[43m    \u001b[49m\u001b[43mpl\u001b[49m\u001b[38;5;241;43m.\u001b[39;49m\u001b[43mcol\u001b[49m\u001b[43m(\u001b[49m\u001b[38;5;124;43m\"\u001b[39;49m\u001b[38;5;124;43mcategory\u001b[39;49m\u001b[38;5;124;43m\"\u001b[39;49m\u001b[43m)\u001b[49m\u001b[38;5;241;43m.\u001b[39;49m\u001b[43mstr\u001b[49m\u001b[38;5;241;43m.\u001b[39;49m\u001b[43mextract\u001b[49m\u001b[43m(\u001b[49m\u001b[38;5;124;43mr\u001b[39;49m\u001b[38;5;124;43m\"\u001b[39;49m\u001b[38;5;124;43m(?<=(parent=\u001b[39;49m\u001b[38;5;124;43m'\u001b[39;49m\u001b[38;5;124;43m))\u001b[39;49m\u001b[38;5;124;43m\\\u001b[39;49m\u001b[38;5;124;43mw+\u001b[39;49m\u001b[38;5;124;43m\"\u001b[39;49m\u001b[43m)\u001b[49m\u001b[38;5;241;43m.\u001b[39;49m\u001b[43malias\u001b[49m\u001b[43m(\u001b[49m\u001b[38;5;124;43m\"\u001b[39;49m\u001b[38;5;124;43mpro_category\u001b[39;49m\u001b[38;5;124;43m\"\u001b[39;49m\u001b[43m)\u001b[49m\n\u001b[1;32m      3\u001b[0m \u001b[43m    \u001b[49m\u001b[43m)\u001b[49m\u001b[38;5;241m.\u001b[39mgroup_by(\u001b[38;5;124m\"\u001b[39m\u001b[38;5;124mpro_category\u001b[39m\u001b[38;5;124m\"\u001b[39m)\u001b[38;5;241m.\u001b[39magg(pl\u001b[38;5;241m.\u001b[39mcol(\u001b[38;5;124m\"\u001b[39m\u001b[38;5;124mamount\u001b[39m\u001b[38;5;124m\"\u001b[39m)\u001b[38;5;241m.\u001b[39msum())\n\u001b[1;32m      5\u001b[0m \u001b[38;5;28;01mwith\u001b[39;00m pl\u001b[38;5;241m.\u001b[39mConfig(fmt_str_lengths\u001b[38;5;241m=\u001b[39m\u001b[38;5;241m1000\u001b[39m):\n\u001b[1;32m      6\u001b[0m     \u001b[38;5;28mprint\u001b[39m(processed_df)\n",
      "File \u001b[0;32m~/.local/lib/python3.12/site-packages/polars/dataframe/frame.py:8290\u001b[0m, in \u001b[0;36mDataFrame.with_columns\u001b[0;34m(self, *exprs, **named_exprs)\u001b[0m\n\u001b[1;32m   8144\u001b[0m \u001b[38;5;28;01mdef\u001b[39;00m \u001b[38;5;21mwith_columns\u001b[39m(\n\u001b[1;32m   8145\u001b[0m     \u001b[38;5;28mself\u001b[39m,\n\u001b[1;32m   8146\u001b[0m     \u001b[38;5;241m*\u001b[39mexprs: IntoExpr \u001b[38;5;241m|\u001b[39m Iterable[IntoExpr],\n\u001b[1;32m   8147\u001b[0m     \u001b[38;5;241m*\u001b[39m\u001b[38;5;241m*\u001b[39mnamed_exprs: IntoExpr,\n\u001b[1;32m   8148\u001b[0m ) \u001b[38;5;241m-\u001b[39m\u001b[38;5;241m>\u001b[39m DataFrame:\n\u001b[1;32m   8149\u001b[0m \u001b[38;5;250m    \u001b[39m\u001b[38;5;124;03m\"\"\"\u001b[39;00m\n\u001b[1;32m   8150\u001b[0m \u001b[38;5;124;03m    Add columns to this DataFrame.\u001b[39;00m\n\u001b[1;32m   8151\u001b[0m \n\u001b[0;32m   (...)\u001b[0m\n\u001b[1;32m   8288\u001b[0m \u001b[38;5;124;03m    └─────┴──────┴─────────────┘\u001b[39;00m\n\u001b[1;32m   8289\u001b[0m \u001b[38;5;124;03m    \"\"\"\u001b[39;00m\n\u001b[0;32m-> 8290\u001b[0m     \u001b[38;5;28;01mreturn\u001b[39;00m \u001b[38;5;28;43mself\u001b[39;49m\u001b[38;5;241;43m.\u001b[39;49m\u001b[43mlazy\u001b[49m\u001b[43m(\u001b[49m\u001b[43m)\u001b[49m\u001b[38;5;241;43m.\u001b[39;49m\u001b[43mwith_columns\u001b[49m\u001b[43m(\u001b[49m\u001b[38;5;241;43m*\u001b[39;49m\u001b[43mexprs\u001b[49m\u001b[43m,\u001b[49m\u001b[43m \u001b[49m\u001b[38;5;241;43m*\u001b[39;49m\u001b[38;5;241;43m*\u001b[39;49m\u001b[43mnamed_exprs\u001b[49m\u001b[43m)\u001b[49m\u001b[38;5;241;43m.\u001b[39;49m\u001b[43mcollect\u001b[49m\u001b[43m(\u001b[49m\u001b[43m_eager\u001b[49m\u001b[38;5;241;43m=\u001b[39;49m\u001b[38;5;28;43;01mTrue\u001b[39;49;00m\u001b[43m)\u001b[49m\n",
      "File \u001b[0;32m~/.local/lib/python3.12/site-packages/polars/lazyframe/frame.py:1937\u001b[0m, in \u001b[0;36mLazyFrame.collect\u001b[0;34m(self, type_coercion, predicate_pushdown, projection_pushdown, simplify_expression, slice_pushdown, comm_subplan_elim, comm_subexpr_elim, no_optimization, streaming, background, _eager)\u001b[0m\n\u001b[1;32m   1934\u001b[0m \u001b[38;5;28;01mif\u001b[39;00m background:\n\u001b[1;32m   1935\u001b[0m     \u001b[38;5;28;01mreturn\u001b[39;00m InProcessQuery(ldf\u001b[38;5;241m.\u001b[39mcollect_concurrently())\n\u001b[0;32m-> 1937\u001b[0m \u001b[38;5;28;01mreturn\u001b[39;00m wrap_df(\u001b[43mldf\u001b[49m\u001b[38;5;241;43m.\u001b[39;49m\u001b[43mcollect\u001b[49m\u001b[43m(\u001b[49m\u001b[43m)\u001b[49m)\n",
      "\u001b[0;31mComputeError\u001b[0m: regex error: regex parse error:\n    (?<=(parent='))\\w+\n    ^^^^\nerror: look-around, including look-ahead and look-behind, is not supported"
     ]
    }
   ],
   "source": [
    "processed_df = tt.with_columns(\n",
    "    pl.col(\"category\").str.ex(r\"(?<=(parent='))\\w+\").alias(\"pro_category\")\n",
    "    ).group_by(\"pro_category\").agg(pl.col(\"amount\").sum())\n",
    "\n",
    "with pl.Config(fmt_str_lengths=1000):\n",
    "    print(processed_df)"
   ]
  },
  {
   "cell_type": "code",
   "execution_count": 15,
   "metadata": {},
   "outputs": [],
   "source": [
    "balance_time_series = tt.with_columns(\n",
    "    pl.col(\"created_at\")\n",
    "    .cast(pl.Date)\n",
    "    .alias(\"date\")\n",
    ")"
   ]
  },
  {
   "cell_type": "code",
   "execution_count": 21,
   "metadata": {},
   "outputs": [
    {
     "data": {
      "text/html": [
       "<div><style>\n",
       ".dataframe > thead > tr,\n",
       ".dataframe > tbody > tr {\n",
       "  text-align: right;\n",
       "  white-space: pre-wrap;\n",
       "}\n",
       "</style>\n",
       "<small>shape: (3_559, 4)</small><table border=\"1\" class=\"dataframe\"><thead><tr><th>date</th><th>account_id</th><th>category</th><th>amount</th></tr><tr><td>date</td><td>str</td><td>str</td><td>f64</td></tr></thead><tbody><tr><td>2024-02-10</td><td>&quot;6155d82c-5186-…</td><td>&quot;&lt;PartialCatego…</td><td>-17.94</td></tr><tr><td>2024-02-08</td><td>&quot;6155d82c-5186-…</td><td>&quot;None&quot;</td><td>-50.0</td></tr><tr><td>2024-02-01</td><td>&quot;6155d82c-5186-…</td><td>&quot;&lt;PartialCatego…</td><td>-90.49</td></tr><tr><td>2024-02-01</td><td>&quot;6155d82c-5186-…</td><td>&quot;&lt;PartialCatego…</td><td>-9.94</td></tr><tr><td>2024-01-30</td><td>&quot;6155d82c-5186-…</td><td>&quot;None&quot;</td><td>65.03</td></tr><tr><td>2024-01-28</td><td>&quot;6155d82c-5186-…</td><td>&quot;&lt;PartialCatego…</td><td>-17.94</td></tr><tr><td>2024-01-27</td><td>&quot;6155d82c-5186-…</td><td>&quot;&lt;PartialCatego…</td><td>-51.8</td></tr><tr><td>2024-01-20</td><td>&quot;6155d82c-5186-…</td><td>&quot;None&quot;</td><td>466.62</td></tr><tr><td>2024-01-19</td><td>&quot;6155d82c-5186-…</td><td>&quot;&lt;PartialCatego…</td><td>-40.8</td></tr><tr><td>2024-01-15</td><td>&quot;6155d82c-5186-…</td><td>&quot;&lt;PartialCatego…</td><td>-5.6</td></tr><tr><td>2024-01-14</td><td>&quot;6155d82c-5186-…</td><td>&quot;&lt;PartialCatego…</td><td>-10.17</td></tr><tr><td>2024-01-13</td><td>&quot;6155d82c-5186-…</td><td>&quot;&lt;PartialCatego…</td><td>-204.68</td></tr><tr><td>&hellip;</td><td>&hellip;</td><td>&hellip;</td><td>&hellip;</td></tr><tr><td>2021-07-03</td><td>&quot;6155d82c-5186-…</td><td>&quot;None&quot;</td><td>280.0</td></tr><tr><td>2021-07-01</td><td>&quot;6155d82c-5186-…</td><td>&quot;&lt;PartialCatego…</td><td>-248.0</td></tr><tr><td>2021-06-28</td><td>&quot;6155d82c-5186-…</td><td>&quot;None&quot;</td><td>19.8</td></tr><tr><td>2021-06-23</td><td>&quot;6155d82c-5186-…</td><td>&quot;&lt;PartialCatego…</td><td>-54.76</td></tr><tr><td>2021-06-17</td><td>&quot;6155d82c-5186-…</td><td>&quot;&lt;PartialCatego…</td><td>-12.5</td></tr><tr><td>2021-06-17</td><td>&quot;6155d82c-5186-…</td><td>&quot;&lt;PartialCatego…</td><td>-1.0</td></tr><tr><td>2021-06-15</td><td>&quot;6155d82c-5186-…</td><td>&quot;None&quot;</td><td>800.0</td></tr><tr><td>2021-06-10</td><td>&quot;6155d82c-5186-…</td><td>&quot;&lt;PartialCatego…</td><td>5.0</td></tr><tr><td>2021-06-08</td><td>&quot;6155d82c-5186-…</td><td>&quot;None&quot;</td><td>166.0</td></tr><tr><td>2021-06-06</td><td>&quot;6155d82c-5186-…</td><td>&quot;&lt;PartialCatego…</td><td>-49.07</td></tr><tr><td>2021-06-05</td><td>&quot;6155d82c-5186-…</td><td>&quot;&lt;PartialCatego…</td><td>-85.66</td></tr><tr><td>2021-05-29</td><td>&quot;6155d82c-5186-…</td><td>&quot;&lt;PartialCatego…</td><td>-7.25</td></tr></tbody></table></div>"
      ],
      "text/plain": [
       "shape: (3_559, 4)\n",
       "┌────────────┬───────────────────────────────────┬───────────────────────────────────┬────────┐\n",
       "│ date       ┆ account_id                        ┆ category                          ┆ amount │\n",
       "│ ---        ┆ ---                               ┆ ---                               ┆ ---    │\n",
       "│ date       ┆ str                               ┆ str                               ┆ f64    │\n",
       "╞════════════╪═══════════════════════════════════╪═══════════════════════════════════╪════════╡\n",
       "│ 2024-02-10 ┆ 6155d82c-5186-4369-99b9-05e9c600… ┆ <PartialCategoryParent id='publi… ┆ -17.94 │\n",
       "│ 2024-02-08 ┆ 6155d82c-5186-4369-99b9-05e9c600… ┆ None                              ┆ -50.0  │\n",
       "│ 2024-02-01 ┆ 6155d82c-5186-4369-99b9-05e9c600… ┆ <PartialCategoryParent id='fuel'… ┆ -90.49 │\n",
       "│ 2024-02-01 ┆ 6155d82c-5186-4369-99b9-05e9c600… ┆ <PartialCategoryParent id='publi… ┆ -9.94  │\n",
       "│ 2024-01-30 ┆ 6155d82c-5186-4369-99b9-05e9c600… ┆ None                              ┆ 65.03  │\n",
       "│ …          ┆ …                                 ┆ …                                 ┆ …      │\n",
       "│ 2021-06-10 ┆ 6155d82c-5186-4369-99b9-05e9c600… ┆ <PartialCategoryParent id='cloth… ┆ 5.0    │\n",
       "│ 2021-06-08 ┆ 6155d82c-5186-4369-99b9-05e9c600… ┆ None                              ┆ 166.0  │\n",
       "│ 2021-06-06 ┆ 6155d82c-5186-4369-99b9-05e9c600… ┆ <PartialCategoryParent id='takea… ┆ -49.07 │\n",
       "│ 2021-06-05 ┆ 6155d82c-5186-4369-99b9-05e9c600… ┆ <PartialCategoryParent id='groce… ┆ -85.66 │\n",
       "│ 2021-05-29 ┆ 6155d82c-5186-4369-99b9-05e9c600… ┆ <PartialCategoryParent id='groce… ┆ -7.25  │\n",
       "└────────────┴───────────────────────────────────┴───────────────────────────────────┴────────┘"
      ]
     },
     "execution_count": 21,
     "metadata": {},
     "output_type": "execute_result"
    }
   ],
   "source": [
    "balance_time_series.filter(\n",
    "    pl.col(\"account_id\").str.contains(\"6155d82c\")\n",
    "    ).group_by([\"date\", \"account_id\", \"category\"]).agg(\n",
    "    pl.col(\"amount\").sum()\n",
    ")"
   ]
  },
  {
   "cell_type": "code",
   "execution_count": 18,
   "metadata": {},
   "outputs": [
    {
     "data": {
      "text/html": [
       "<div><style>\n",
       ".dataframe > thead > tr,\n",
       ".dataframe > tbody > tr {\n",
       "  text-align: right;\n",
       "  white-space: pre-wrap;\n",
       "}\n",
       "</style>\n",
       "<small>shape: (973, 4)</small><table border=\"1\" class=\"dataframe\"><thead><tr><th>date</th><th>account_id</th><th>amount</th><th>balance</th></tr><tr><td>date</td><td>str</td><td>f64</td><td>f64</td></tr></thead><tbody><tr><td>2021-05-28</td><td>&quot;6155d82c-5186-…</td><td>94.5</td><td>94.5</td></tr><tr><td>2021-05-29</td><td>&quot;6155d82c-5186-…</td><td>-88.98</td><td>5.52</td></tr><tr><td>2021-05-30</td><td>&quot;6155d82c-5186-…</td><td>103.85</td><td>109.37</td></tr><tr><td>2021-05-31</td><td>&quot;6155d82c-5186-…</td><td>-41.05</td><td>68.32</td></tr><tr><td>2021-06-01</td><td>&quot;6155d82c-5186-…</td><td>-25.87</td><td>42.45</td></tr><tr><td>2021-06-02</td><td>&quot;6155d82c-5186-…</td><td>168.1</td><td>210.55</td></tr><tr><td>2021-06-03</td><td>&quot;6155d82c-5186-…</td><td>-40.4</td><td>170.15</td></tr><tr><td>2021-06-04</td><td>&quot;6155d82c-5186-…</td><td>-66.38</td><td>103.77</td></tr><tr><td>2021-06-05</td><td>&quot;6155d82c-5186-…</td><td>18.49</td><td>122.26</td></tr><tr><td>2021-06-06</td><td>&quot;6155d82c-5186-…</td><td>-44.04</td><td>78.22</td></tr><tr><td>2021-06-07</td><td>&quot;6155d82c-5186-…</td><td>1.32</td><td>79.54</td></tr><tr><td>2021-06-08</td><td>&quot;6155d82c-5186-…</td><td>-35.76</td><td>43.78</td></tr><tr><td>&hellip;</td><td>&hellip;</td><td>&hellip;</td><td>&hellip;</td></tr><tr><td>2024-02-07</td><td>&quot;6155d82c-5186-…</td><td>570.99</td><td>655.23</td></tr><tr><td>2024-02-08</td><td>&quot;6155d82c-5186-…</td><td>-64.5</td><td>590.73</td></tr><tr><td>2024-02-09</td><td>&quot;6155d82c-5186-…</td><td>-122.96</td><td>467.77</td></tr><tr><td>2024-02-10</td><td>&quot;6155d82c-5186-…</td><td>-70.77</td><td>397.0</td></tr><tr><td>2024-02-11</td><td>&quot;6155d82c-5186-…</td><td>-138.68</td><td>258.32</td></tr><tr><td>2024-02-12</td><td>&quot;6155d82c-5186-…</td><td>-32.49</td><td>225.83</td></tr><tr><td>2024-02-13</td><td>&quot;6155d82c-5186-…</td><td>-80.3</td><td>145.53</td></tr><tr><td>2024-02-14</td><td>&quot;6155d82c-5186-…</td><td>507.5</td><td>653.03</td></tr><tr><td>2024-02-15</td><td>&quot;6155d82c-5186-…</td><td>-21.25</td><td>631.78</td></tr><tr><td>2024-02-16</td><td>&quot;6155d82c-5186-…</td><td>-315.59</td><td>316.19</td></tr><tr><td>2024-02-17</td><td>&quot;6155d82c-5186-…</td><td>-129.15</td><td>187.04</td></tr><tr><td>2024-02-18</td><td>&quot;6155d82c-5186-…</td><td>-101.17</td><td>85.87</td></tr></tbody></table></div>"
      ],
      "text/plain": [
       "shape: (973, 4)\n",
       "┌────────────┬───────────────────────────────────┬─────────┬─────────┐\n",
       "│ date       ┆ account_id                        ┆ amount  ┆ balance │\n",
       "│ ---        ┆ ---                               ┆ ---     ┆ ---     │\n",
       "│ date       ┆ str                               ┆ f64     ┆ f64     │\n",
       "╞════════════╪═══════════════════════════════════╪═════════╪═════════╡\n",
       "│ 2021-05-28 ┆ 6155d82c-5186-4369-99b9-05e9c600… ┆ 94.5    ┆ 94.5    │\n",
       "│ 2021-05-29 ┆ 6155d82c-5186-4369-99b9-05e9c600… ┆ -88.98  ┆ 5.52    │\n",
       "│ 2021-05-30 ┆ 6155d82c-5186-4369-99b9-05e9c600… ┆ 103.85  ┆ 109.37  │\n",
       "│ 2021-05-31 ┆ 6155d82c-5186-4369-99b9-05e9c600… ┆ -41.05  ┆ 68.32   │\n",
       "│ 2021-06-01 ┆ 6155d82c-5186-4369-99b9-05e9c600… ┆ -25.87  ┆ 42.45   │\n",
       "│ …          ┆ …                                 ┆ …       ┆ …       │\n",
       "│ 2024-02-14 ┆ 6155d82c-5186-4369-99b9-05e9c600… ┆ 507.5   ┆ 653.03  │\n",
       "│ 2024-02-15 ┆ 6155d82c-5186-4369-99b9-05e9c600… ┆ -21.25  ┆ 631.78  │\n",
       "│ 2024-02-16 ┆ 6155d82c-5186-4369-99b9-05e9c600… ┆ -315.59 ┆ 316.19  │\n",
       "│ 2024-02-17 ┆ 6155d82c-5186-4369-99b9-05e9c600… ┆ -129.15 ┆ 187.04  │\n",
       "│ 2024-02-18 ┆ 6155d82c-5186-4369-99b9-05e9c600… ┆ -101.17 ┆ 85.87   │\n",
       "└────────────┴───────────────────────────────────┴─────────┴─────────┘"
      ]
     },
     "execution_count": 18,
     "metadata": {},
     "output_type": "execute_result"
    }
   ],
   "source": [
    "balance_time_series.filter(\n",
    "    pl.col(\"account_id\").str.contains(\"6155d82c\")\n",
    "    ).group_by([\"date\", \"account_id\"]).agg(\n",
    "    pl.col(\"amount\").sum()\n",
    ").sort([\"date\", \"account_id\"]).with_columns(\n",
    "    pl.cum_sum(\"amount\").over(\"account_id\").alias(\"balance\")\n",
    ")"
   ]
  }
 ],
 "metadata": {
  "kernelspec": {
   "display_name": "Python 3",
   "language": "python",
   "name": "python3"
  },
  "language_info": {
   "codemirror_mode": {
    "name": "ipython",
    "version": 3
   },
   "file_extension": ".py",
   "mimetype": "text/x-python",
   "name": "python",
   "nbconvert_exporter": "python",
   "pygments_lexer": "ipython3",
   "version": "3.12.2"
  }
 },
 "nbformat": 4,
 "nbformat_minor": 2
}
